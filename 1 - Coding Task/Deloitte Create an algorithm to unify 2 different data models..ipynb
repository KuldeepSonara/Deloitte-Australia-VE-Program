{
 "cells": [
  {
   "cell_type": "markdown",
   "id": "6f3b0554-3f86-4f45-baf0-ed12755cd956",
   "metadata": {},
   "source": [
    "Task - 1"
   ]
  },
  {
   "cell_type": "markdown",
   "id": "be3649fb-efe1-478d-94fb-39acfb74445e",
   "metadata": {},
   "source": [
    "Conversion from Type - 1 Data"
   ]
  },
  {
   "cell_type": "code",
   "execution_count": 30,
   "id": "4abe8092-9307-409a-97c5-976895638ed3",
   "metadata": {},
   "outputs": [],
   "source": [
    "import json \n",
    "\n",
    "jsonObject = '''{\n",
    "    \"deviceID\": \"dh28dslkja\",\n",
    "    \"deviceType\": \"LaserCutter\",\n",
    "    \"timestamp\": 1624445837783,\n",
    "    \"location\": \"japan/tokyo/keiyō-industrial-zone/daikibo-factory-meiyo/section-1\",\n",
    "    \"operationStatus\": \"healthy\",\n",
    "    \"temp\": 22\n",
    "}'''\n",
    "\n"
   ]
  },
  {
   "cell_type": "code",
   "execution_count": 31,
   "id": "b2e57d87-f4fc-41a0-8fe3-6cfdd3ad3afd",
   "metadata": {},
   "outputs": [
    {
     "data": {
      "text/plain": [
       "{'deviceID': 'dh28dslkja',\n",
       " 'deviceType': 'LaserCutter',\n",
       " 'timestamp': 1624445837783,\n",
       " 'location': {'country': 'japan',\n",
       "  'city': 'tokyo',\n",
       "  'area': 'keiyō-industrial-zone',\n",
       "  'factory': 'daikibo-factory-meiyo',\n",
       "  'sector': 'section-1'},\n",
       " 'data': {'status': 'healthy', 'temperature': 22}}"
      ]
     },
     "execution_count": 31,
     "metadata": {},
     "output_type": "execute_result"
    }
   ],
   "source": [
    "loaction_parts = jsonObject[\"location\"].split(\"/\")\n",
    "\n",
    "new_data = {\n",
    "        \"deviceID\": jsonObject['deviceID'],\n",
    "        \"deviceType\": jsonObject['deviceType'],\n",
    "        \"timestamp\": jsonObject['timestamp'],\n",
    "        \"location\": {\n",
    "            \"country\": loaction_parts[0],\n",
    "            \"city\": loaction_parts[1],\n",
    "            \"area\": loaction_parts[2],\n",
    "            \"factory\": loaction_parts[3],\n",
    "            \"section\": loaction_parts[4]\n",
    "        },\n",
    "        \"data\": {\n",
    "            \"status\": jsonObject['operationStatus'],\n",
    "            \"temperature\": jsonObject['temp']\n",
    "        }\n",
    "    }\n",
    "\n",
    "new_data"
   ]
  },
  {
   "cell_type": "markdown",
   "id": "7b0f93ab-3c0e-4f98-8867-1c2532e227ca",
   "metadata": {},
   "source": [
    "Conversion from Type - 1 Data"
   ]
  },
  {
   "cell_type": "code",
   "execution_count": 28,
   "id": "984be83e-a8c6-4a41-9363-eb822dba0363",
   "metadata": {},
   "outputs": [
    {
     "data": {
      "text/plain": [
       "{'deviceID': 'dh28dslkja',\n",
       " 'deviceType': 'LaserCutter',\n",
       " 'timestamp': 1624426037783,\n",
       " 'location': {'country': 'japan',\n",
       "  'city': 'tokyo',\n",
       "  'area': 'keiyō-industrial-zone',\n",
       "  'factory': 'daikibo-factory-meiyo',\n",
       "  'sector': 'section-1'},\n",
       " 'data': {'status': 'healthy', 'temperature': 22}}"
      ]
     },
     "execution_count": 28,
     "metadata": {},
     "output_type": "execute_result"
    }
   ],
   "source": [
    "import json\n",
    "from datetime import datetime\n",
    "\n",
    "jsonObject = \"\"\"{\n",
    "    \"device\": {\n",
    "        \"id\": \"dh28dslkja\",\n",
    "        \"type\": \"LaserCutter\"\n",
    "    },\n",
    "    \"timestamp\": \"2021-06-23T10:57:17.783Z\",\n",
    "    \"country\": \"japan\",\n",
    "    \"city\": \"tokyo\",\n",
    "    \"area\": \"keiyō-industrial-zone\",\n",
    "    \"factory\": \"daikibo-factory-meiyo\",\n",
    "    \"section\": \"section-1\",\n",
    "    \"data\": {\n",
    "        \"status\": \"healthy\",\n",
    "        \"temperature\": 22\n",
    "    }\n",
    "}\"\"\"\n",
    "\n",
    "data = json.loads(jsonObject)\n",
    "\n",
    "# Convert the timestamp to Unix timestamp in milliseconds\n",
    "timestamp = int(datetime.strptime(data['timestamp'], \"%Y-%m-%dT%H:%M:%S.%fZ\").timestamp() * 1000)\n",
    "\n",
    "# Construct the new format\n",
    "new_data = {\n",
    "    'deviceID': data['device']['id'],\n",
    "    'deviceType': data['device']['type'],\n",
    "    'timestamp': timestamp,\n",
    "    'location': {\n",
    "        'country': data['country'],\n",
    "        'city': data['city'],\n",
    "        'area': data['area'],\n",
    "        'factory': data['factory'],\n",
    "        'sector': data['section']\n",
    "    },\n",
    "    'data': data['data']\n",
    "}\n",
    "\n",
    "new_data\n"
   ]
  },
  {
   "cell_type": "markdown",
   "id": "b8c85af6-bd12-4ab0-9c3a-edc2893fe187",
   "metadata": {},
   "source": [
    "Complete Code"
   ]
  },
  {
   "cell_type": "markdown",
   "id": "5b8f2947-d5e4-4a61-9fcd-abfa87ebe45e",
   "metadata": {},
   "source": [
    "Repl Submission: https://replit.com/@kuldeepsonara6/Task1-VE"
   ]
  },
  {
   "cell_type": "code",
   "execution_count": null,
   "id": "c2ef8225-fcbe-44cd-abde-cfe827bab3e5",
   "metadata": {},
   "outputs": [],
   "source": []
  }
 ],
 "metadata": {
  "kernelspec": {
   "display_name": "Python 3 (ipykernel)",
   "language": "python",
   "name": "python3"
  },
  "language_info": {
   "codemirror_mode": {
    "name": "ipython",
    "version": 3
   },
   "file_extension": ".py",
   "mimetype": "text/x-python",
   "name": "python",
   "nbconvert_exporter": "python",
   "pygments_lexer": "ipython3",
   "version": "3.11.7"
  }
 },
 "nbformat": 4,
 "nbformat_minor": 5
}
